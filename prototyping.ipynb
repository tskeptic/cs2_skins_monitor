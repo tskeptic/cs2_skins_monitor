{
 "cells": [
  {
   "cell_type": "code",
   "execution_count": 1,
   "id": "8b908d90-8c88-4df4-8b0f-b2882b4f2192",
   "metadata": {},
   "outputs": [],
   "source": [
    "%load_ext autoreload\n",
    "%autoreload 2"
   ]
  },
  {
   "cell_type": "code",
   "execution_count": 2,
   "id": "4882c4b5-267e-487b-b577-0846d649e5c8",
   "metadata": {},
   "outputs": [],
   "source": [
    "import csfloat\n",
    "import file_utils\n",
    "import reports"
   ]
  },
  {
   "cell_type": "code",
   "execution_count": null,
   "id": "f8085896-87da-49b8-9bed-c696a3cfde45",
   "metadata": {},
   "outputs": [],
   "source": []
  },
  {
   "cell_type": "code",
   "execution_count": 3,
   "id": "a01b1104-4f31-4911-af92-a3e8e6466ce5",
   "metadata": {},
   "outputs": [],
   "source": [
    "# import pandas as pd"
   ]
  },
  {
   "cell_type": "code",
   "execution_count": 4,
   "id": "291c9650-9029-4a85-bf20-486fdf9105b1",
   "metadata": {},
   "outputs": [],
   "source": [
    "# https://docs.csfloat.com/\n",
    "# https://github.com/Rushifakami/csfloat_api\n",
    "# https://github.com/Revadike/InternalSteamWebAPI/wiki\n",
    "# https://github.com/Revadike/InternalSteamWebAPI/wiki/Get-Market-Price-History"
   ]
  },
  {
   "cell_type": "code",
   "execution_count": 5,
   "id": "299d5f6d-2df5-4eeb-889e-96e16de227f6",
   "metadata": {},
   "outputs": [],
   "source": [
    "my_orders = file_utils.load_orders_book()"
   ]
  },
  {
   "cell_type": "code",
   "execution_count": 6,
   "id": "465bb135-e42d-4572-b365-0374a7f981a5",
   "metadata": {},
   "outputs": [
    {
     "data": {
      "text/plain": [
       "(100,\n",
       " [{'date': '2025-09-24', 'name': 'Sticker | Lefty (CT)', 'paid': 0.43},\n",
       "  {'date': '2025-09-24', 'name': 'Sticker | Lefty (CT)', 'paid': 0.43},\n",
       "  {'date': '2025-09-24', 'name': 'Sticker | Ribbon Tie', 'paid': 0.43},\n",
       "  {'date': '2025-09-24', 'name': 'Sticker | Clown Nose', 'paid': 0.43},\n",
       "  {'date': '2025-09-24', 'name': 'Sticker | Lefty (T)', 'paid': 0.43}])"
      ]
     },
     "execution_count": 6,
     "metadata": {},
     "output_type": "execute_result"
    }
   ],
   "source": [
    "len(my_orders), my_orders[:5]"
   ]
  },
  {
   "cell_type": "code",
   "execution_count": null,
   "id": "d5fb46ae-7bb4-4fc2-8ee3-ed56735c8def",
   "metadata": {},
   "outputs": [],
   "source": []
  },
  {
   "cell_type": "code",
   "execution_count": 7,
   "id": "0b4d0e24-22ad-4fc1-9c8e-c3d36f385eeb",
   "metadata": {},
   "outputs": [
    {
     "name": "stderr",
     "output_type": "stream",
     "text": [
      "100%|██████████████████████████████████████████████████████████████| 23/23 [01:08<00:00,  2.96s/it]\n"
     ]
    }
   ],
   "source": [
    "current_prices_data = csfloat.gather_current_prices(my_orders)"
   ]
  },
  {
   "cell_type": "code",
   "execution_count": 8,
   "id": "c836f99c-507c-4613-9832-8a276e9bbc60",
   "metadata": {},
   "outputs": [
    {
     "data": {
      "text/plain": [
       "(23,\n",
       " [{'fetch_date': '2025-09-28',\n",
       "   'name': 'Sticker | Lefty (CT)',\n",
       "   'sell_price': 0.05,\n",
       "   'estimated_price': 0.03,\n",
       "   'buy_price': 0.04,\n",
       "   'sell_history_avg_qty': 191,\n",
       "   'sell_history_avg_price': 0.04},\n",
       "  {'fetch_date': '2025-09-28',\n",
       "   'name': 'Sticker | Kawaii Eyes (Glitter)',\n",
       "   'sell_price': 1.6,\n",
       "   'estimated_price': 1.13,\n",
       "   'buy_price': 1.48,\n",
       "   'sell_history_avg_qty': 204,\n",
       "   'sell_history_avg_price': 1.47},\n",
       "  {'fetch_date': '2025-09-28',\n",
       "   'name': 'Sticker | Taste Bud',\n",
       "   'sell_price': 0.35,\n",
       "   'estimated_price': 0.19,\n",
       "   'buy_price': 0.32,\n",
       "   'sell_history_avg_qty': 433,\n",
       "   'sell_history_avg_price': 0.28}])"
      ]
     },
     "execution_count": 8,
     "metadata": {},
     "output_type": "execute_result"
    }
   ],
   "source": [
    "len(current_prices_data), current_prices_data[:3]"
   ]
  },
  {
   "cell_type": "code",
   "execution_count": null,
   "id": "63b0625b-c8b6-4fc2-8c64-cf019d89f50b",
   "metadata": {},
   "outputs": [],
   "source": []
  },
  {
   "cell_type": "code",
   "execution_count": 10,
   "id": "6c704f12-b0d2-49df-875e-c7d4bce44419",
   "metadata": {},
   "outputs": [
    {
     "name": "stdout",
     "output_type": "stream",
     "text": [
      "transactions: 100\n",
      "profitable:   39%\n",
      "total spent:  43.0\n",
      "total rev:    100.57\n",
      "roi:          234%\n"
     ]
    }
   ],
   "source": [
    "reports.report_returns(my_orders, current_prices_data)"
   ]
  },
  {
   "cell_type": "code",
   "execution_count": null,
   "id": "bab8ff7e-d280-4da0-9f95-117d45dc3844",
   "metadata": {},
   "outputs": [],
   "source": []
  },
  {
   "cell_type": "code",
   "execution_count": null,
   "id": "6f32cfeb-8490-4c40-9701-20a045ddaafd",
   "metadata": {},
   "outputs": [],
   "source": []
  },
  {
   "cell_type": "code",
   "execution_count": null,
   "id": "495ffdeb-e5fe-4ad1-b5b7-809d19fddb12",
   "metadata": {},
   "outputs": [],
   "source": []
  },
  {
   "cell_type": "code",
   "execution_count": null,
   "id": "148d0c84-96b5-4d80-9daa-45034ba33b0f",
   "metadata": {},
   "outputs": [],
   "source": []
  }
 ],
 "metadata": {
  "kernelspec": {
   "display_name": "Python 3 (ipykernel)",
   "language": "python",
   "name": "python3"
  },
  "language_info": {
   "codemirror_mode": {
    "name": "ipython",
    "version": 3
   },
   "file_extension": ".py",
   "mimetype": "text/x-python",
   "name": "python",
   "nbconvert_exporter": "python",
   "pygments_lexer": "ipython3",
   "version": "3.12.3"
  }
 },
 "nbformat": 4,
 "nbformat_minor": 5
}
