{
 "cells": [
  {
   "cell_type": "code",
   "execution_count": 63,
   "id": "8b908d90-8c88-4df4-8b0f-b2882b4f2192",
   "metadata": {},
   "outputs": [
    {
     "name": "stdout",
     "output_type": "stream",
     "text": [
      "The autoreload extension is already loaded. To reload it, use:\n",
      "  %reload_ext autoreload\n"
     ]
    }
   ],
   "source": [
    "%load_ext autoreload\n",
    "%autoreload 2"
   ]
  },
  {
   "cell_type": "code",
   "execution_count": 64,
   "id": "4882c4b5-267e-487b-b577-0846d649e5c8",
   "metadata": {},
   "outputs": [],
   "source": [
    "from csfloat import *"
   ]
  },
  {
   "cell_type": "code",
   "execution_count": 65,
   "id": "a01b1104-4f31-4911-af92-a3e8e6466ce5",
   "metadata": {},
   "outputs": [],
   "source": [
    "import pandas as pd"
   ]
  },
  {
   "cell_type": "code",
   "execution_count": 4,
   "id": "291c9650-9029-4a85-bf20-486fdf9105b1",
   "metadata": {},
   "outputs": [],
   "source": [
    "# https://docs.csfloat.com/\n",
    "# https://github.com/Rushifakami/csfloat_api\n",
    "# https://github.com/Revadike/InternalSteamWebAPI/wiki\n",
    "# https://github.com/Revadike/InternalSteamWebAPI/wiki/Get-Market-Price-History"
   ]
  },
  {
   "cell_type": "code",
   "execution_count": 66,
   "id": "299d5f6d-2df5-4eeb-889e-96e16de227f6",
   "metadata": {},
   "outputs": [],
   "source": [
    "my_orders = load_orders_book()"
   ]
  },
  {
   "cell_type": "code",
   "execution_count": 68,
   "id": "465bb135-e42d-4572-b365-0374a7f981a5",
   "metadata": {},
   "outputs": [
    {
     "data": {
      "text/plain": [
       "(90,\n",
       " [{'date': '2025-09-24', 'name': 'Sticker | Lefty (CT)', 'paid': 0.43},\n",
       "  {'date': '2025-09-24', 'name': 'Sticker | Lefty (CT)', 'paid': 0.43}])"
      ]
     },
     "execution_count": 68,
     "metadata": {},
     "output_type": "execute_result"
    }
   ],
   "source": [
    "len(my_orders), my_orders[:2]"
   ]
  },
  {
   "cell_type": "code",
   "execution_count": 67,
   "id": "8f457c51-e967-49e0-bd7d-9cf4dd856561",
   "metadata": {},
   "outputs": [
    {
     "data": {
      "text/html": [
       "<div>\n",
       "<style scoped>\n",
       "    .dataframe tbody tr th:only-of-type {\n",
       "        vertical-align: middle;\n",
       "    }\n",
       "\n",
       "    .dataframe tbody tr th {\n",
       "        vertical-align: top;\n",
       "    }\n",
       "\n",
       "    .dataframe thead th {\n",
       "        text-align: right;\n",
       "    }\n",
       "</style>\n",
       "<table border=\"1\" class=\"dataframe\">\n",
       "  <thead>\n",
       "    <tr style=\"text-align: right;\">\n",
       "      <th></th>\n",
       "      <th>date</th>\n",
       "      <th>name</th>\n",
       "      <th>paid</th>\n",
       "    </tr>\n",
       "  </thead>\n",
       "  <tbody>\n",
       "    <tr>\n",
       "      <th>0</th>\n",
       "      <td>2025-09-24</td>\n",
       "      <td>Sticker | Lefty (CT)</td>\n",
       "      <td>0.43</td>\n",
       "    </tr>\n",
       "    <tr>\n",
       "      <th>1</th>\n",
       "      <td>2025-09-24</td>\n",
       "      <td>Sticker | Lefty (CT)</td>\n",
       "      <td>0.43</td>\n",
       "    </tr>\n",
       "    <tr>\n",
       "      <th>2</th>\n",
       "      <td>2025-09-24</td>\n",
       "      <td>Sticker | Ribbon Tie</td>\n",
       "      <td>0.43</td>\n",
       "    </tr>\n",
       "    <tr>\n",
       "      <th>3</th>\n",
       "      <td>2025-09-24</td>\n",
       "      <td>Sticker | Clown Nose</td>\n",
       "      <td>0.43</td>\n",
       "    </tr>\n",
       "    <tr>\n",
       "      <th>4</th>\n",
       "      <td>2025-09-24</td>\n",
       "      <td>Sticker | Lefty (T)</td>\n",
       "      <td>0.43</td>\n",
       "    </tr>\n",
       "    <tr>\n",
       "      <th>5</th>\n",
       "      <td>2025-09-24</td>\n",
       "      <td>Sticker | Say Cheese (Holo)</td>\n",
       "      <td>0.43</td>\n",
       "    </tr>\n",
       "  </tbody>\n",
       "</table>\n",
       "</div>"
      ],
      "text/plain": [
       "         date                         name  paid\n",
       "0  2025-09-24         Sticker | Lefty (CT)  0.43\n",
       "1  2025-09-24         Sticker | Lefty (CT)  0.43\n",
       "2  2025-09-24         Sticker | Ribbon Tie  0.43\n",
       "3  2025-09-24         Sticker | Clown Nose  0.43\n",
       "4  2025-09-24          Sticker | Lefty (T)  0.43\n",
       "5  2025-09-24  Sticker | Say Cheese (Holo)  0.43"
      ]
     },
     "execution_count": 67,
     "metadata": {},
     "output_type": "execute_result"
    }
   ],
   "source": [
    "pd.DataFrame(my_orders).head(6)"
   ]
  },
  {
   "cell_type": "code",
   "execution_count": null,
   "id": "8f83a2f4-2589-499c-977e-b974ba5de285",
   "metadata": {},
   "outputs": [],
   "source": []
  },
  {
   "cell_type": "code",
   "execution_count": 10,
   "id": "0b4d0e24-22ad-4fc1-9c8e-c3d36f385eeb",
   "metadata": {},
   "outputs": [
    {
     "name": "stderr",
     "output_type": "stream",
     "text": [
      "100%|██████████████████████████████████████████████████████████████| 23/23 [01:06<00:00,  2.90s/it]\n"
     ]
    }
   ],
   "source": [
    "current_prices_data = gather_current_prices(my_orders)"
   ]
  },
  {
   "cell_type": "code",
   "execution_count": 12,
   "id": "959a644d-3983-429d-96f8-ffcd08ce2f0f",
   "metadata": {},
   "outputs": [
    {
     "data": {
      "text/html": [
       "<div>\n",
       "<style scoped>\n",
       "    .dataframe tbody tr th:only-of-type {\n",
       "        vertical-align: middle;\n",
       "    }\n",
       "\n",
       "    .dataframe tbody tr th {\n",
       "        vertical-align: top;\n",
       "    }\n",
       "\n",
       "    .dataframe thead th {\n",
       "        text-align: right;\n",
       "    }\n",
       "</style>\n",
       "<table border=\"1\" class=\"dataframe\">\n",
       "  <thead>\n",
       "    <tr style=\"text-align: right;\">\n",
       "      <th></th>\n",
       "      <th>name</th>\n",
       "      <th>sell_price</th>\n",
       "      <th>estimated_price</th>\n",
       "      <th>buy_price</th>\n",
       "      <th>sell_history_avg_qty</th>\n",
       "      <th>sell_history_avg_price</th>\n",
       "    </tr>\n",
       "  </thead>\n",
       "  <tbody>\n",
       "    <tr>\n",
       "      <th>0</th>\n",
       "      <td>Sticker | Taste Buddy (Holo)</td>\n",
       "      <td>7.89</td>\n",
       "      <td>5.76</td>\n",
       "      <td>7.80</td>\n",
       "      <td>397</td>\n",
       "      <td>811.25</td>\n",
       "    </tr>\n",
       "    <tr>\n",
       "      <th>1</th>\n",
       "      <td>Sticker | XD</td>\n",
       "      <td>0.13</td>\n",
       "      <td>0.07</td>\n",
       "      <td>0.12</td>\n",
       "      <td>260</td>\n",
       "      <td>10.20</td>\n",
       "    </tr>\n",
       "    <tr>\n",
       "      <th>2</th>\n",
       "      <td>Sticker | Strike A Pose</td>\n",
       "      <td>0.09</td>\n",
       "      <td>0.05</td>\n",
       "      <td>0.08</td>\n",
       "      <td>220</td>\n",
       "      <td>8.60</td>\n",
       "    </tr>\n",
       "    <tr>\n",
       "      <th>3</th>\n",
       "      <td>Sticker | Quick Peek</td>\n",
       "      <td>0.35</td>\n",
       "      <td>0.22</td>\n",
       "      <td>0.33</td>\n",
       "      <td>342</td>\n",
       "      <td>34.38</td>\n",
       "    </tr>\n",
       "    <tr>\n",
       "      <th>4</th>\n",
       "      <td>Sticker | Hypnoteyes (Holo)</td>\n",
       "      <td>1.85</td>\n",
       "      <td>1.11</td>\n",
       "      <td>1.83</td>\n",
       "      <td>377</td>\n",
       "      <td>179.58</td>\n",
       "    </tr>\n",
       "    <tr>\n",
       "      <th>5</th>\n",
       "      <td>Sticker | Kawaii Eyes (Glitter)</td>\n",
       "      <td>1.54</td>\n",
       "      <td>1.13</td>\n",
       "      <td>1.47</td>\n",
       "      <td>254</td>\n",
       "      <td>154.97</td>\n",
       "    </tr>\n",
       "  </tbody>\n",
       "</table>\n",
       "</div>"
      ],
      "text/plain": [
       "                              name  sell_price  estimated_price  buy_price  \\\n",
       "0     Sticker | Taste Buddy (Holo)        7.89             5.76       7.80   \n",
       "1                     Sticker | XD        0.13             0.07       0.12   \n",
       "2          Sticker | Strike A Pose        0.09             0.05       0.08   \n",
       "3             Sticker | Quick Peek        0.35             0.22       0.33   \n",
       "4      Sticker | Hypnoteyes (Holo)        1.85             1.11       1.83   \n",
       "5  Sticker | Kawaii Eyes (Glitter)        1.54             1.13       1.47   \n",
       "\n",
       "   sell_history_avg_qty  sell_history_avg_price  \n",
       "0                   397                  811.25  \n",
       "1                   260                   10.20  \n",
       "2                   220                    8.60  \n",
       "3                   342                   34.38  \n",
       "4                   377                  179.58  \n",
       "5                   254                  154.97  "
      ]
     },
     "execution_count": 12,
     "metadata": {},
     "output_type": "execute_result"
    }
   ],
   "source": [
    "pd.DataFrame(current_prices_data).head(6)"
   ]
  },
  {
   "cell_type": "code",
   "execution_count": null,
   "id": "63b0625b-c8b6-4fc2-8c64-cf019d89f50b",
   "metadata": {},
   "outputs": [],
   "source": []
  },
  {
   "cell_type": "code",
   "execution_count": 59,
   "id": "6c7213ba-f51f-4dae-91f7-ff2878df2534",
   "metadata": {},
   "outputs": [],
   "source": [
    "import math\n",
    "CSF_SELL_FEE = 0.021"
   ]
  },
  {
   "cell_type": "code",
   "execution_count": 69,
   "id": "7c0cfa89-a25e-4b67-af94-08aecd0894d1",
   "metadata": {},
   "outputs": [
    {
     "name": "stdout",
     "output_type": "stream",
     "text": [
      "transactions: 90\n",
      "profitable:   43%\n",
      "total spent:  38.7\n",
      "total rev:    90.48\n",
      "roi:          234%\n"
     ]
    }
   ],
   "source": [
    "price_ref = 'buy_price'\n",
    "\n",
    "results = []\n",
    "for buy in my_orders:\n",
    "    current_info = [i for i in current_prices_data if i['name'] == buy['name']][0]\n",
    "    my_sell_price = math.floor(current_info[price_ref] * 100 * (1 - CSF_SELL_FEE)) / 100\n",
    "    doc = {\n",
    "        'paid': buy['paid'],\n",
    "        'profit': int(my_sell_price > buy['paid']),\n",
    "        'rev': my_sell_price\n",
    "    }\n",
    "    results.append(doc)\n",
    "print(f'transactions: {len(results)}')\n",
    "profitable_perc = round(sum([i [\"profit\"] for i in results]) / len(results) * 100)\n",
    "print(f'profitable:   {profitable_perc}%')\n",
    "spent = sum([i[\"paid\"] for i in results])\n",
    "print(f'total spent:  {spent}')\n",
    "rev = sum([i[\"rev\"] for i in results])\n",
    "print(f'total rev:    {rev}')\n",
    "roi = round(rev / spent * 100)\n",
    "print(f'roi:          {roi}%')"
   ]
  },
  {
   "cell_type": "code",
   "execution_count": null,
   "id": "6c704f12-b0d2-49df-875e-c7d4bce44419",
   "metadata": {},
   "outputs": [],
   "source": []
  },
  {
   "cell_type": "code",
   "execution_count": null,
   "id": "bab8ff7e-d280-4da0-9f95-117d45dc3844",
   "metadata": {},
   "outputs": [],
   "source": []
  },
  {
   "cell_type": "code",
   "execution_count": null,
   "id": "148d0c84-96b5-4d80-9daa-45034ba33b0f",
   "metadata": {},
   "outputs": [],
   "source": []
  }
 ],
 "metadata": {
  "kernelspec": {
   "display_name": "Python 3 (ipykernel)",
   "language": "python",
   "name": "python3"
  },
  "language_info": {
   "codemirror_mode": {
    "name": "ipython",
    "version": 3
   },
   "file_extension": ".py",
   "mimetype": "text/x-python",
   "name": "python",
   "nbconvert_exporter": "python",
   "pygments_lexer": "ipython3",
   "version": "3.12.3"
  }
 },
 "nbformat": 4,
 "nbformat_minor": 5
}
