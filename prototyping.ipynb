{
 "cells": [
  {
   "cell_type": "code",
   "execution_count": 1,
   "id": "613a4500-1ad8-42d1-86b6-ffca535dadd6",
   "metadata": {},
   "outputs": [],
   "source": [
    "# # useful (maybe) links\n",
    "# https://docs.csfloat.com/\n",
    "# https://github.com/Rushifakami/csfloat_api\n",
    "# https://github.com/Revadike/InternalSteamWebAPI/wiki\n",
    "# https://github.com/Revadike/InternalSteamWebAPI/wiki/Get-Market-Price-History"
   ]
  },
  {
   "cell_type": "markdown",
   "id": "266e8383-7c7a-4f27-9644-9cbf53ef185e",
   "metadata": {},
   "source": [
    "## Setup"
   ]
  },
  {
   "cell_type": "code",
   "execution_count": 1,
   "id": "8b908d90-8c88-4df4-8b0f-b2882b4f2192",
   "metadata": {},
   "outputs": [],
   "source": [
    "%load_ext autoreload\n",
    "%autoreload 2"
   ]
  },
  {
   "cell_type": "code",
   "execution_count": 2,
   "id": "4882c4b5-267e-487b-b577-0846d649e5c8",
   "metadata": {},
   "outputs": [],
   "source": [
    "import csfloat\n",
    "import file_utils\n",
    "import reports"
   ]
  },
  {
   "cell_type": "markdown",
   "id": "b6539d4f-09f3-4738-af77-7bd535d3c70d",
   "metadata": {},
   "source": [
    "## Data"
   ]
  },
  {
   "cell_type": "code",
   "execution_count": 3,
   "id": "299d5f6d-2df5-4eeb-889e-96e16de227f6",
   "metadata": {},
   "outputs": [],
   "source": [
    "# loading my orders history\n",
    "# my_orders = file_utils.load_csv_data(file_utils.ORDERS_BOOK_FPATH)\n",
    "my_orders = file_utils.load_csv_data(\"data/orders_book_elemental.csv\")"
   ]
  },
  {
   "cell_type": "code",
   "execution_count": 4,
   "id": "465bb135-e42d-4572-b365-0374a7f981a5",
   "metadata": {},
   "outputs": [
    {
     "data": {
      "text/plain": [
       "(17,\n",
       " [{'date': '2025-10-06', 'name': 'Sticker | Boom Trail', 'paid_price': 0.43},\n",
       "  {'date': '2025-10-06',\n",
       "   'name': 'Sticker | Boom Detonation (Glitter)',\n",
       "   'paid_price': 0.43},\n",
       "  {'date': '2025-10-06', 'name': 'Sticker | Boom Trail', 'paid_price': 0.43},\n",
       "  {'date': '2025-10-06',\n",
       "   'name': 'Sticker | Scorch Loop (Reverse)',\n",
       "   'paid_price': 0.43},\n",
       "  {'date': '2025-10-06', 'name': 'Sticker | Bolt Energy', 'paid_price': 0.43}])"
      ]
     },
     "execution_count": 4,
     "metadata": {},
     "output_type": "execute_result"
    }
   ],
   "source": [
    "len(my_orders), my_orders[:5]"
   ]
  },
  {
   "cell_type": "code",
   "execution_count": 5,
   "id": "0b4d0e24-22ad-4fc1-9c8e-c3d36f385eeb",
   "metadata": {},
   "outputs": [
    {
     "name": "stderr",
     "output_type": "stream",
     "text": [
      "100%|██████████████████████████████████████████████████████████████| 11/11 [00:53<00:00,  4.82s/it]\n"
     ]
    }
   ],
   "source": [
    "# collecting princing information about my \"portfolio\"\n",
    "current_prices_data = csfloat.gather_current_prices(my_orders)"
   ]
  },
  {
   "cell_type": "code",
   "execution_count": 6,
   "id": "c836f99c-507c-4613-9832-8a276e9bbc60",
   "metadata": {},
   "outputs": [
    {
     "data": {
      "text/plain": [
       "(11,\n",
       " [{'fetch_date': '2025-10-13',\n",
       "   'name': 'Sticker | Boom Epicenter',\n",
       "   'sell_price': 0.1,\n",
       "   'estimated_price': 0.07,\n",
       "   'buy_price': 0.09,\n",
       "   'sell_history_avg_qty': 105,\n",
       "   'sell_history_avg_price': 0.09},\n",
       "  {'fetch_date': '2025-10-13',\n",
       "   'name': 'Sticker | Bolt Energy',\n",
       "   'sell_price': 0.18,\n",
       "   'estimated_price': 0.17,\n",
       "   'buy_price': 0.16,\n",
       "   'sell_history_avg_qty': 89,\n",
       "   'sell_history_avg_price': 0.19},\n",
       "  {'fetch_date': '2025-10-13',\n",
       "   'name': 'Sticker | Boom Trail',\n",
       "   'sell_price': 0.19,\n",
       "   'estimated_price': 0.16,\n",
       "   'buy_price': 0.18,\n",
       "   'sell_history_avg_qty': 102,\n",
       "   'sell_history_avg_price': 0.19}])"
      ]
     },
     "execution_count": 6,
     "metadata": {},
     "output_type": "execute_result"
    }
   ],
   "source": [
    "len(current_prices_data), current_prices_data[:3]"
   ]
  },
  {
   "cell_type": "code",
   "execution_count": 7,
   "id": "0a2c273e-5474-4eea-87ba-11dd4ead0694",
   "metadata": {},
   "outputs": [
    {
     "name": "stderr",
     "output_type": "stream",
     "text": [
      "100%|██████████████████████████████████████████████████████████████| 25/25 [01:56<00:00,  4.67s/it]\n",
      "100%|██████████████████████████████████████████████████████████████| 26/26 [01:12<00:00,  2.78s/it]\n"
     ]
    }
   ],
   "source": [
    "# gathering princing for items in interest collections\n",
    "target_collections = ['collection-stickers-character_craft', 'collection-stickers-elemental_craft']\n",
    "for collection in target_collections:\n",
    "    # for now this objects are not used, but the data will be kept in the local cache\n",
    "    collection_data = file_utils.load_csv_data(f'data/odds-{collection}.csv')\n",
    "    collection_prices_data = csfloat.gather_current_prices(collection_data)"
   ]
  },
  {
   "cell_type": "code",
   "execution_count": 8,
   "id": "44404362-67b8-4026-821e-73358feaf899",
   "metadata": {},
   "outputs": [
    {
     "data": {
      "text/plain": [
       "(26,\n",
       " [{'name': 'Sticker | Boom Blast', 'probability': 0.0533333333333333},\n",
       "  {'name': 'Sticker | Boom Detonation', 'probability': 0.0533333333333333}])"
      ]
     },
     "execution_count": 8,
     "metadata": {},
     "output_type": "execute_result"
    }
   ],
   "source": [
    "len(collection_data), collection_data[:2]"
   ]
  },
  {
   "cell_type": "code",
   "execution_count": 9,
   "id": "63b0625b-c8b6-4fc2-8c64-cf019d89f50b",
   "metadata": {},
   "outputs": [
    {
     "data": {
      "text/plain": [
       "(26,\n",
       " [{'fetch_date': '2025-10-13',\n",
       "   'name': 'Sticker | Bolt Strike (Foil)',\n",
       "   'sell_price': 3.96,\n",
       "   'estimated_price': 3.71,\n",
       "   'buy_price': 3.84,\n",
       "   'sell_history_avg_qty': 42,\n",
       "   'sell_history_avg_price': 3.95}])"
      ]
     },
     "execution_count": 9,
     "metadata": {},
     "output_type": "execute_result"
    }
   ],
   "source": [
    "len(collection_prices_data), collection_prices_data[:1]"
   ]
  },
  {
   "cell_type": "markdown",
   "id": "233ef078-3284-4b1a-b888-067ec3886902",
   "metadata": {},
   "source": [
    "## Reports"
   ]
  },
  {
   "cell_type": "code",
   "execution_count": 11,
   "id": "76eca14c-03b8-4fb7-954d-231261b19b17",
   "metadata": {},
   "outputs": [
    {
     "name": "stderr",
     "output_type": "stream",
     "text": [
      "100%|█████████████████████████████████████████████████████████████| 25/25 [00:00<00:00, 103.36it/s]"
     ]
    },
    {
     "name": "stdout",
     "output_type": "stream",
     "text": [
      "transactions: 199\n",
      "profitable:   38%\n",
      "total spent:  85.57\n",
      "total rev:    180.75\n",
      "roi:          211%\n"
     ]
    },
    {
     "name": "stderr",
     "output_type": "stream",
     "text": [
      "\n"
     ]
    }
   ],
   "source": [
    "my_orders = file_utils.load_csv_data(file_utils.ORDERS_BOOK_FPATH)\n",
    "current_prices_data = csfloat.gather_current_prices(my_orders)\n",
    "reports.report_returns(my_orders, current_prices_data)"
   ]
  },
  {
   "cell_type": "code",
   "execution_count": 12,
   "id": "6c704f12-b0d2-49df-875e-c7d4bce44419",
   "metadata": {},
   "outputs": [
    {
     "name": "stderr",
     "output_type": "stream",
     "text": [
      "100%|█████████████████████████████████████████████████████████████| 11/11 [00:00<00:00, 137.10it/s]"
     ]
    },
    {
     "name": "stdout",
     "output_type": "stream",
     "text": [
      "transactions: 17\n",
      "profitable:   12%\n",
      "total spent:  7.31\n",
      "total rev:    4.74\n",
      "roi:          65%\n"
     ]
    },
    {
     "name": "stderr",
     "output_type": "stream",
     "text": [
      "\n"
     ]
    }
   ],
   "source": [
    "my_orders = file_utils.load_csv_data(\"data/orders_book_elemental.csv\")\n",
    "current_prices_data = csfloat.gather_current_prices(my_orders)\n",
    "reports.report_returns(my_orders, current_prices_data)"
   ]
  },
  {
   "cell_type": "code",
   "execution_count": 13,
   "id": "6f32cfeb-8490-4c40-9701-20a045ddaafd",
   "metadata": {},
   "outputs": [
    {
     "name": "stderr",
     "output_type": "stream",
     "text": [
      "100%|█████████████████████████████████████████████████████████████| 25/25 [00:00<00:00, 155.77it/s]"
     ]
    },
    {
     "name": "stdout",
     "output_type": "stream",
     "text": [
      "Results for collection-stickers-character_craft\n",
      "expected profitable: 52%\n",
      "expected ROI:        188%\n"
     ]
    },
    {
     "name": "stderr",
     "output_type": "stream",
     "text": [
      "\n"
     ]
    }
   ],
   "source": [
    "reports.print_group_roi_report('collection-stickers-character_craft', 0.43)"
   ]
  },
  {
   "cell_type": "code",
   "execution_count": 14,
   "id": "ef541ba9-77a5-4880-a43e-cd3b0ece6942",
   "metadata": {},
   "outputs": [
    {
     "name": "stderr",
     "output_type": "stream",
     "text": [
      "100%|█████████████████████████████████████████████████████████████| 26/26 [00:00<00:00, 121.39it/s]"
     ]
    },
    {
     "name": "stdout",
     "output_type": "stream",
     "text": [
      "Results for collection-stickers-elemental_craft\n",
      "expected profitable: 42%\n",
      "expected ROI:        147%\n"
     ]
    },
    {
     "name": "stderr",
     "output_type": "stream",
     "text": [
      "\n"
     ]
    }
   ],
   "source": [
    "reports.print_group_roi_report('collection-stickers-elemental_craft', 0.43)"
   ]
  },
  {
   "cell_type": "code",
   "execution_count": null,
   "id": "148d0c84-96b5-4d80-9daa-45034ba33b0f",
   "metadata": {},
   "outputs": [],
   "source": []
  },
  {
   "cell_type": "code",
   "execution_count": null,
   "id": "3bd326be-5555-4514-a2da-0de3f269ef76",
   "metadata": {},
   "outputs": [],
   "source": []
  }
 ],
 "metadata": {
  "kernelspec": {
   "display_name": "Python 3 (ipykernel)",
   "language": "python",
   "name": "python3"
  },
  "language_info": {
   "codemirror_mode": {
    "name": "ipython",
    "version": 3
   },
   "file_extension": ".py",
   "mimetype": "text/x-python",
   "name": "python",
   "nbconvert_exporter": "python",
   "pygments_lexer": "ipython3",
   "version": "3.12.3"
  }
 },
 "nbformat": 4,
 "nbformat_minor": 5
}
