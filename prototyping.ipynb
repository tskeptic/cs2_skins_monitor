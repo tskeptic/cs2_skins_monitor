{
 "cells": [
  {
   "cell_type": "code",
   "execution_count": null,
   "id": "613a4500-1ad8-42d1-86b6-ffca535dadd6",
   "metadata": {},
   "outputs": [],
   "source": [
    "# # useful (maybe) links\n",
    "# https://docs.csfloat.com/\n",
    "# https://github.com/Rushifakami/csfloat_api\n",
    "# https://github.com/Revadike/InternalSteamWebAPI/wiki\n",
    "# https://github.com/Revadike/InternalSteamWebAPI/wiki/Get-Market-Price-History"
   ]
  },
  {
   "cell_type": "markdown",
   "id": "266e8383-7c7a-4f27-9644-9cbf53ef185e",
   "metadata": {},
   "source": [
    "## Setup"
   ]
  },
  {
   "cell_type": "code",
   "execution_count": 1,
   "id": "8b908d90-8c88-4df4-8b0f-b2882b4f2192",
   "metadata": {},
   "outputs": [],
   "source": [
    "%load_ext autoreload\n",
    "%autoreload 2"
   ]
  },
  {
   "cell_type": "code",
   "execution_count": 2,
   "id": "4882c4b5-267e-487b-b577-0846d649e5c8",
   "metadata": {},
   "outputs": [],
   "source": [
    "import csfloat\n",
    "import file_utils\n",
    "import reports"
   ]
  },
  {
   "cell_type": "markdown",
   "id": "b6539d4f-09f3-4738-af77-7bd535d3c70d",
   "metadata": {},
   "source": [
    "## Data"
   ]
  },
  {
   "cell_type": "code",
   "execution_count": 3,
   "id": "299d5f6d-2df5-4eeb-889e-96e16de227f6",
   "metadata": {},
   "outputs": [],
   "source": [
    "# loading my orders history\n",
    "my_orders = file_utils.load_csv_data(file_utils.ORDERS_BOOK_FPATH)"
   ]
  },
  {
   "cell_type": "code",
   "execution_count": 4,
   "id": "465bb135-e42d-4572-b365-0374a7f981a5",
   "metadata": {},
   "outputs": [
    {
     "data": {
      "text/plain": [
       "(199,\n",
       " [{'date': '2025-09-24', 'name': 'Sticker | Lefty (CT)', 'paid_price': 0.43},\n",
       "  {'date': '2025-09-24', 'name': 'Sticker | Lefty (CT)', 'paid_price': 0.43},\n",
       "  {'date': '2025-09-24', 'name': 'Sticker | Ribbon Tie', 'paid_price': 0.43},\n",
       "  {'date': '2025-09-24', 'name': 'Sticker | Clown Nose', 'paid_price': 0.43},\n",
       "  {'date': '2025-09-24', 'name': 'Sticker | Lefty (T)', 'paid_price': 0.43}])"
      ]
     },
     "execution_count": 4,
     "metadata": {},
     "output_type": "execute_result"
    }
   ],
   "source": [
    "len(my_orders), my_orders[:5]"
   ]
  },
  {
   "cell_type": "code",
   "execution_count": 5,
   "id": "0b4d0e24-22ad-4fc1-9c8e-c3d36f385eeb",
   "metadata": {},
   "outputs": [
    {
     "name": "stderr",
     "output_type": "stream",
     "text": [
      "100%|██████████████████████████████████████████████████████████████| 25/25 [01:59<00:00,  4.77s/it]\n"
     ]
    }
   ],
   "source": [
    "# collecting princing information about my \"portfolio\"\n",
    "current_prices_data = csfloat.gather_current_prices(my_orders)"
   ]
  },
  {
   "cell_type": "code",
   "execution_count": 6,
   "id": "c836f99c-507c-4613-9832-8a276e9bbc60",
   "metadata": {},
   "outputs": [
    {
     "data": {
      "text/plain": [
       "(25,\n",
       " [{'fetch_date': '2025-10-03',\n",
       "   'name': 'Sticker | From The Deep',\n",
       "   'sell_price': 0.12,\n",
       "   'estimated_price': 0.11,\n",
       "   'buy_price': 0.11,\n",
       "   'sell_history_avg_qty': 791,\n",
       "   'sell_history_avg_price': 0.16},\n",
       "  {'fetch_date': '2025-10-03',\n",
       "   'name': 'Sticker | Chompers',\n",
       "   'sell_price': 0.36,\n",
       "   'estimated_price': 0.29,\n",
       "   'buy_price': 0.35,\n",
       "   'sell_history_avg_qty': 832,\n",
       "   'sell_history_avg_price': 0.37},\n",
       "  {'fetch_date': '2025-10-03',\n",
       "   'name': 'Sticker | Fly High',\n",
       "   'sell_price': 0.16,\n",
       "   'estimated_price': 0.11,\n",
       "   'buy_price': 0.13,\n",
       "   'sell_history_avg_qty': 679,\n",
       "   'sell_history_avg_price': 0.16}])"
      ]
     },
     "execution_count": 6,
     "metadata": {},
     "output_type": "execute_result"
    }
   ],
   "source": [
    "len(current_prices_data), current_prices_data[:3]"
   ]
  },
  {
   "cell_type": "code",
   "execution_count": 7,
   "id": "0a2c273e-5474-4eea-87ba-11dd4ead0694",
   "metadata": {},
   "outputs": [
    {
     "name": "stderr",
     "output_type": "stream",
     "text": [
      "100%|█████████████████████████████████████████████████████████████| 25/25 [00:00<00:00, 153.74it/s]\n",
      " 19%|████████████                                                   | 5/26 [00:26<01:53,  5.39s/it]\n"
     ]
    },
    {
     "ename": "IndexError",
     "evalue": "list index out of range",
     "output_type": "error",
     "traceback": [
      "\u001b[31m---------------------------------------------------------------------------\u001b[39m",
      "\u001b[31mIndexError\u001b[39m                                Traceback (most recent call last)",
      "\u001b[36mCell\u001b[39m\u001b[36m \u001b[39m\u001b[32mIn[7]\u001b[39m\u001b[32m, line 6\u001b[39m\n\u001b[32m      3\u001b[39m \u001b[38;5;28;01mfor\u001b[39;00m collection \u001b[38;5;129;01min\u001b[39;00m target_collections:\n\u001b[32m      4\u001b[39m     \u001b[38;5;66;03m# for now this objects are not used, but the data will be kept in the local cache\u001b[39;00m\n\u001b[32m      5\u001b[39m     collection_data = file_utils.load_csv_data(\u001b[33mf\u001b[39m\u001b[33m'\u001b[39m\u001b[33mdata/odds-\u001b[39m\u001b[38;5;132;01m{\u001b[39;00mcollection\u001b[38;5;132;01m}\u001b[39;00m\u001b[33m.csv\u001b[39m\u001b[33m'\u001b[39m)\n\u001b[32m----> \u001b[39m\u001b[32m6\u001b[39m     collection_prices_data = \u001b[43mcsfloat\u001b[49m\u001b[43m.\u001b[49m\u001b[43mgather_current_prices\u001b[49m\u001b[43m(\u001b[49m\u001b[43mcollection_data\u001b[49m\u001b[43m)\u001b[49m\n",
      "\u001b[36mFile \u001b[39m\u001b[32m~/Documents/cs2_skins_monitor/csfloat.py:72\u001b[39m, in \u001b[36mgather_current_prices\u001b[39m\u001b[34m(orders_data)\u001b[39m\n\u001b[32m     70\u001b[39m buy_orders = get_buy_orders(listings[\u001b[32m0\u001b[39m], qty=\u001b[32m2\u001b[39m)\n\u001b[32m     71\u001b[39m filtered_buy_orders = [b \u001b[38;5;28;01mfor\u001b[39;00m b \u001b[38;5;129;01min\u001b[39;00m buy_orders \u001b[38;5;28;01mif\u001b[39;00m b[\u001b[33m'\u001b[39m\u001b[33mqty\u001b[39m\u001b[33m'\u001b[39m] >= min_buy_orders_qty]\n\u001b[32m---> \u001b[39m\u001b[32m72\u001b[39m max_buy_order_price = \u001b[43mfiltered_buy_orders\u001b[49m\u001b[43m[\u001b[49m\u001b[32;43m0\u001b[39;49m\u001b[43m]\u001b[49m[\u001b[33m'\u001b[39m\u001b[33mprice\u001b[39m\u001b[33m'\u001b[39m] / \u001b[32m100\u001b[39m\n\u001b[32m     73\u001b[39m sales_history = get_sales_graph(skin)[:history_period]\n\u001b[32m     74\u001b[39m avg_history_sold_count = \u001b[38;5;28mint\u001b[39m(\u001b[38;5;28msum\u001b[39m([i[\u001b[33m'\u001b[39m\u001b[33mcount\u001b[39m\u001b[33m'\u001b[39m] \u001b[38;5;28;01mfor\u001b[39;00m i \u001b[38;5;129;01min\u001b[39;00m sales_history]) / history_period)\n",
      "\u001b[31mIndexError\u001b[39m: list index out of range"
     ]
    }
   ],
   "source": [
    "# gathering princing for items in interest collections\n",
    "target_collections = ['collection-stickers-character_craft', 'collection-stickers-elemental_craft']\n",
    "for collection in target_collections:\n",
    "    # for now this objects are not used, but the data will be kept in the local cache\n",
    "    collection_data = file_utils.load_csv_data(f'data/odds-{collection}.csv')\n",
    "    collection_prices_data = csfloat.gather_current_prices(collection_data)"
   ]
  },
  {
   "cell_type": "code",
   "execution_count": 9,
   "id": "44404362-67b8-4026-821e-73358feaf899",
   "metadata": {},
   "outputs": [
    {
     "data": {
      "text/plain": [
       "(26,\n",
       " [{'name': 'Sticker | Boom Blast', 'probability': 0.0533333333333333},\n",
       "  {'name': 'Sticker | Boom Detonation', 'probability': 0.0533333333333333}])"
      ]
     },
     "execution_count": 9,
     "metadata": {},
     "output_type": "execute_result"
    }
   ],
   "source": [
    "len(collection_data), collection_data[:2]"
   ]
  },
  {
   "cell_type": "code",
   "execution_count": null,
   "id": "63b0625b-c8b6-4fc2-8c64-cf019d89f50b",
   "metadata": {},
   "outputs": [],
   "source": [
    "len(collection_prices_data), collection_prices_data[:1]"
   ]
  },
  {
   "cell_type": "markdown",
   "id": "233ef078-3284-4b1a-b888-067ec3886902",
   "metadata": {},
   "source": [
    "## Reports"
   ]
  },
  {
   "cell_type": "code",
   "execution_count": 8,
   "id": "6c704f12-b0d2-49df-875e-c7d4bce44419",
   "metadata": {},
   "outputs": [
    {
     "name": "stdout",
     "output_type": "stream",
     "text": [
      "transactions: 199\n",
      "profitable:   30%\n",
      "total spent:  85.57\n",
      "total rev:    149.86\n",
      "roi:          175%\n"
     ]
    }
   ],
   "source": [
    "reports.report_returns(my_orders, current_prices_data)"
   ]
  },
  {
   "cell_type": "code",
   "execution_count": 17,
   "id": "6f32cfeb-8490-4c40-9701-20a045ddaafd",
   "metadata": {},
   "outputs": [
    {
     "name": "stderr",
     "output_type": "stream",
     "text": [
      "100%|█████████████████████████████████████████████████████████████| 25/25 [00:00<00:00, 138.61it/s]"
     ]
    },
    {
     "name": "stdout",
     "output_type": "stream",
     "text": [
      "Results for collection-stickers-character_craft\n",
      "expected profitable: 44%\n",
      "expected ROI:        156%\n"
     ]
    },
    {
     "name": "stderr",
     "output_type": "stream",
     "text": [
      "\n"
     ]
    }
   ],
   "source": [
    "reports.print_group_roi_report('collection-stickers-character_craft', 0.43)"
   ]
  },
  {
   "cell_type": "code",
   "execution_count": 32,
   "id": "ef541ba9-77a5-4880-a43e-cd3b0ece6942",
   "metadata": {},
   "outputs": [
    {
     "name": "stderr",
     "output_type": "stream",
     "text": [
      "100%|██████████████████████████████████████████████████████████████| 26/26 [00:00<00:00, 56.62it/s]"
     ]
    },
    {
     "name": "stdout",
     "output_type": "stream",
     "text": [
      "Results for collection-stickers-elemental_craft\n",
      "expected profitable: 42%\n",
      "expected ROI:        134%\n"
     ]
    },
    {
     "name": "stderr",
     "output_type": "stream",
     "text": [
      "\n"
     ]
    }
   ],
   "source": [
    "reports.print_group_roi_report('collection-stickers-elemental_craft', 0.43)"
   ]
  },
  {
   "cell_type": "code",
   "execution_count": null,
   "id": "148d0c84-96b5-4d80-9daa-45034ba33b0f",
   "metadata": {},
   "outputs": [],
   "source": []
  }
 ],
 "metadata": {
  "kernelspec": {
   "display_name": "Python 3 (ipykernel)",
   "language": "python",
   "name": "python3"
  },
  "language_info": {
   "codemirror_mode": {
    "name": "ipython",
    "version": 3
   },
   "file_extension": ".py",
   "mimetype": "text/x-python",
   "name": "python",
   "nbconvert_exporter": "python",
   "pygments_lexer": "ipython3",
   "version": "3.12.3"
  }
 },
 "nbformat": 4,
 "nbformat_minor": 5
}
